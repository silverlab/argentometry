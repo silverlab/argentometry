{
 "cells": [
  {
   "cell_type": "code",
   "execution_count": 11,
   "metadata": {
    "collapsed": false
   },
   "outputs": [],
   "source": [
    "import sys\n",
    "%matplotlib inline\n",
    "from matplotlib.mlab import csv2rec\n",
    "import matplotlib.pyplot as plt\n",
    "import numpy as np\n",
    "from pypsignifit import (BootstrapInference,GoodnessOfFit,ParameterPlot,\n",
    "                         ThresholdPlot)\n",
    "\n",
    "#User input GUI- not currently running, but soon?:\n",
    "#class GetFromGui(wx.Dialog):\n",
    "#    \"\"\" Allows user to set input parameters of ss through a simple GUI\"\"\"    \n",
    "#    def __init__(self, parent, id, title, combo_choices=['No Choices Given']):\n",
    "#        wx.Dialog.__init__(self, parent, id, title, size=(280, 300))\n",
    "#        # Add text labels\n",
    "#        wx.StaticText(self, -1, 'FileName:', pos=(10,20))\n",
    "#        # Add the subj id text box, drop down menu, radio buttons\n",
    "#        self.textbox = wx.TextCtrl(self, -1, pos=(100,18), size=(150, -1))\n",
    "#        self.replay_contrast = None        \n",
    "#        # Add OK/Cancel/Replay buttons\n",
    "#        wx.Button(self, 1, 'Done', (20, 240))\n",
    "#        wx.Button(self, 2, 'Quit', (180, 240))\n",
    "#        # Bind button press events to class methods for execution\n",
    "#        self.Bind(wx.EVT_BUTTON, self.OnDone, id=1)\n",
    "#        self.Bind(wx.EVT_BUTTON, self.OnClose, id=2)\n",
    "#        self.Centre()\n",
    "#        self.ShowModal()        \n",
    "#    # If \"Done\" is pressed, set important values and close the window\n",
    "#    def OnDone(self,event):\n",
    "#        self.success = True\n",
    "#        self.filename = self.textbox.GetValue()\n",
    "#        #If subjet is not set, default to 'test_subject':\n",
    "#        self.Close()\n",
    "#    # If \"Clear\" is pressed, all values are set to defaults\n",
    "#    def OnClear(self, event):\n",
    "#        self.textbox.Clear()\n",
    "#    # If \"Exit is pressed\", toggle failure and close the window\n",
    "#    def OnClose(self, event):\n",
    "#        self.success = False\n",
    "#        self.Close()\n",
    "contrast = []\n",
    "\n",
    "if __name__==\"__main__\":\n",
    "    file_name = './data/SS_mandy_09022015_2.psydat'\n",
    "    #file_name = sys.argv[1]\n",
    "    file_read = file(file_name,'r')\n",
    "    p = {} #This will hold the params\n",
    "    l = file_read.readline()\n",
    "    \n",
    "    while l[0]=='#':\n",
    "        try:\n",
    "            p[l[1:l.find(':')-1]]=float(l[l.find(':')+1:l.find('\\n')]) \n",
    "\n",
    "        #Not all the parameters can be cast as float (the task and the subject)\n",
    "        except:\n",
    "            p[l[2:l.find(':')-1]]=l[l.find(':')+1:l.find('\\n')]\n",
    "            \n",
    "        l = file_read.readline()\n",
    "    data_rec = csv2rec(file_name)\n",
    "    annulus_target_contrast = data_rec['annulus_target_contrast']\n",
    "    correct = data_rec['correct']\n",
    "    #Which staircase to analyze:\n",
    "    if p['task'] == ' Fixation ':\n",
    "        contrast = 1-data_rec['fixation_target_contrast']\n",
    "        hit_amps = contrast[correct==1]\n",
    "        miss_amps = contrast[correct==0]\n",
    "    elif p['task']== ' Annulus ':\n",
    "        #if data_rec['annulus_target_contrast'] >= 0.75#params.targetA_contrast_min\n",
    "        #contrast_all = data_rec['annulus_target_contrast'] - p[' annulus_contrast']\n",
    "        contrast_all = data_rec['annulus_target_contrast']\n",
    "        #print contrast_all\n",
    "#        contrast = data_rec.find(annulus_target_contrast>=0.75)\n",
    "        contrast = contrast_all[annulus_target_contrast>=0]\n",
    "        this_correct = correct[annulus_target_contrast>=0]\n",
    "        hit_amps = contrast[this_correct==1]\n",
    "        miss_amps = contrast[this_correct==0]\n",
    "    all_amps = np.hstack([hit_amps,miss_amps])\n",
    "    #For psignifit, the data needs to have the form:\n",
    "    #(stimulus_intensities,n_correct,n_trials)\n",
    "    stim_intensities = np.unique(all_amps)\n",
    "    n_correct = [len(np.where(hit_amps==i)[0]) for i in stim_intensities]\n",
    "    n_trials = [len(np.where(all_amps==i)[0]) for i in stim_intensities]\n",
    "\n",
    "    constraints = ( 'unconstrained', 'unconstrained', 'unconstrained') \n",
    "\n",
    "    #Do the psignifit thing for the psychometric curve:\n",
    "    Data = zip(stim_intensities,n_correct,n_trials)\n",
    "    \n",
    "    "
   ]
  },
  {
   "cell_type": "code",
   "execution_count": 12,
   "metadata": {
    "collapsed": false
   },
   "outputs": [
    {
     "name": "stdout",
     "output_type": "stream",
     "text": [
      "[(0.20000000000000001, 1, 3), (0.213333333333, 2, 4), (0.226666666667, 2, 4), (0.23999999999999999, 3, 5), (0.25333333333300001, 3, 5), (0.26666666666700001, 4, 12), (0.28000000000000003, 14, 17), (0.29333333333299999, 8, 12), (0.30666666666699999, 9, 12), (0.32000000000000001, 6, 6)]\n"
     ]
    }
   ],
   "source": [
    "print Data"
   ]
  },
  {
   "cell_type": "code",
   "execution_count": 15,
   "metadata": {
    "collapsed": false
   },
   "outputs": [
    {
     "name": "stdout",
     "output_type": "stream",
     "text": [
      "Threshold: 0.296033633176\n",
      "CI: [0.271626818599,  0.324824748258]\n",
      "Last value in the staircase: 0.266666666667\n"
     ]
    }
   ],
   "source": [
    "    #Both tasks are honest-to-god 2AFC:\n",
    "    B = BootstrapInference ( Data, priors=constraints, nafc=2)\n",
    "    B.sample()\n",
    "    print 'Threshold: %s'%(B.getThres())\n",
    "    print 'CI: [%s,  %s]'%(B.getCI(1)[0],\n",
    "                           B.getCI(1)[1])\n",
    "    print 'Last value in the staircase: %s'%contrast[-1]\n",
    "           "
   ]
  },
  {
   "cell_type": "code",
   "execution_count": null,
   "metadata": {
    "collapsed": true
   },
   "outputs": [],
   "source": []
  }
 ],
 "metadata": {
  "kernelspec": {
   "display_name": "Python 2",
   "language": "python",
   "name": "python2"
  },
  "language_info": {
   "codemirror_mode": {
    "name": "ipython",
    "version": 2
   },
   "file_extension": ".py",
   "mimetype": "text/x-python",
   "name": "python",
   "nbconvert_exporter": "python",
   "pygments_lexer": "ipython2",
   "version": "2.7.10"
  }
 },
 "nbformat": 4,
 "nbformat_minor": 0
}
